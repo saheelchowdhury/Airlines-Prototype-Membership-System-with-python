{
 "cells": [
  {
   "cell_type": "code",
   "execution_count": 123,
   "id": "4fe7ca50-9487-4f92-9be1-553440a4a858",
   "metadata": {
    "tags": []
   },
   "outputs": [
    {
     "name": "stdout",
     "output_type": "stream",
     "text": [
      "Welcome to the Python Airlines Prototype Membership System\n",
      "\n"
     ]
    }
   ],
   "source": [
    "print(\"Welcome to the Python Airlines Prototype Membership System\")\n",
    "print()"
   ]
  },
  {
   "cell_type": "code",
   "execution_count": 124,
   "id": "68bcdc11-0eb3-40a4-828d-04666d3f5821",
   "metadata": {
    "tags": []
   },
   "outputs": [
    {
     "name": "stdin",
     "output_type": "stream",
     "text": [
      "What is your first name? Saheel\n"
     ]
    }
   ],
   "source": [
    "first_name = input(\"What is your first name?\")"
   ]
  },
  {
   "cell_type": "code",
   "execution_count": 125,
   "id": "d6753223-5846-48b7-afbe-9e9a3d842833",
   "metadata": {
    "tags": []
   },
   "outputs": [
    {
     "name": "stdin",
     "output_type": "stream",
     "text": [
      "How many miles have you flown this year? 50000\n"
     ]
    }
   ],
   "source": [
    "annual_miles = input(\"How many miles have you flown this year?\")"
   ]
  },
  {
   "cell_type": "code",
   "execution_count": 126,
   "id": "f067dec2-bdf1-40d3-95ae-20f7f5082379",
   "metadata": {
    "tags": []
   },
   "outputs": [
    {
     "name": "stdin",
     "output_type": "stream",
     "text": [
      "How many segments have you flown this year? 87\n"
     ]
    }
   ],
   "source": [
    "annual_segments = input(\"How many segments have you flown this year?\")"
   ]
  },
  {
   "cell_type": "code",
   "execution_count": 127,
   "id": "3a3bb084-12bc-4b52-94dd-4b47ebc2070b",
   "metadata": {
    "tags": []
   },
   "outputs": [
    {
     "name": "stdin",
     "output_type": "stream",
     "text": [
      "How much money have you spent this year(USD)? 24000\n"
     ]
    }
   ],
   "source": [
    "annual_dollars = input(\"How much money have you spent this year(USD)?\")"
   ]
  },
  {
   "cell_type": "code",
   "execution_count": 128,
   "id": "e42274ea-e936-43e1-ab41-4e92550997db",
   "metadata": {
    "tags": []
   },
   "outputs": [
    {
     "name": "stdin",
     "output_type": "stream",
     "text": [
      "How many lifetime miles have you flown? 5000000\n"
     ]
    }
   ],
   "source": [
    "lifetime_miles = input(\"How many lifetime miles have you flown?\")"
   ]
  },
  {
   "cell_type": "code",
   "execution_count": 129,
   "id": "481a46ff-de12-498f-909a-b7f6bbb5077d",
   "metadata": {
    "tags": []
   },
   "outputs": [
    {
     "name": "stdin",
     "output_type": "stream",
     "text": [
      "Is your next flight to (or through) the Chicago airport? yes\n"
     ]
    }
   ],
   "source": [
    "lounge_response = input(\"Is your next flight to (or through) the Chicago airport?\")\n",
    "\n",
    "if lounge_response.strip().lower() in [\"yes\", \"y\"]:\n",
    "        lounge_check = True\n",
    "else:\n",
    "        lounge_check = False "
   ]
  },
  {
   "cell_type": "code",
   "execution_count": 130,
   "id": "0fbbbd78-50b6-41b2-a1f3-49c95d461caa",
   "metadata": {
    "tags": []
   },
   "outputs": [
    {
     "name": "stdin",
     "output_type": "stream",
     "text": [
      "How much will a Coach Class ticket for your next flight cost (USD)? 500\n"
     ]
    },
    {
     "name": "stdout",
     "output_type": "stream",
     "text": [
      "\n"
     ]
    }
   ],
   "source": [
    "ticket_price = input(\"How much will a Coach Class ticket for your next flight cost (USD)?\")\n",
    "\n",
    "print()"
   ]
  },
  {
   "cell_type": "code",
   "execution_count": 131,
   "id": "a426c943-9ced-4e78-a9cf-d4ad969d3f17",
   "metadata": {
    "tags": []
   },
   "outputs": [],
   "source": [
    "first_name = str(first_name)\n",
    "annual_miles = int(annual_miles)\n",
    "annual_segments = int(annual_segments)\n",
    "annual_dollars = float(annual_dollars)\n",
    "lifetime_miles = int(lifetime_miles)\n",
    "ticket_price = float(ticket_price)"
   ]
  },
  {
   "cell_type": "code",
   "execution_count": 139,
   "id": "53f9454a-455b-4978-9994-b42a5627167c",
   "metadata": {
    "tags": []
   },
   "outputs": [],
   "source": [
    "lounge_check = lounge_response.strip().lower() in [\"yes\", \"y\"]"
   ]
  },
  {
   "cell_type": "code",
   "execution_count": 132,
   "id": "e87a55de-51f6-4f16-a90c-4a52dbb22a79",
   "metadata": {
    "tags": []
   },
   "outputs": [
    {
     "name": "stdout",
     "output_type": "stream",
     "text": [
      "\n"
     ]
    }
   ],
   "source": [
    "print()"
   ]
  },
  {
   "cell_type": "code",
   "execution_count": 133,
   "id": "66a62019-0d03-41e9-be96-e57e00f5fb8a",
   "metadata": {},
   "outputs": [],
   "source": [
    "#Everything related to getting the ANNUAL TIER\n",
    "\n",
    "if   annual_miles >= 100000 or (annual_segments >= 120 and annual_dollars >= 24000):\n",
    "     annual_tier = \"Diamond\" \n",
    "elif annual_miles >= 75000 or (annual_segments >= 90 and annual_dollars >= 15000):\n",
    "     annual_tier = \"Ruby\"\n",
    "elif annual_miles >= 50000 or (annual_segments >= 60 and annual_dollars >= 7000):\n",
    "     annual_tier = \"Emerald\"\n",
    "elif annual_miles >= 25000 or (annual_segments >= 30 and annual_dollars >= 3000):\n",
    "     annual_tier = \"Sapphire\" \n",
    "        \n",
    "else: annual_tier = \"None\" \n",
    "\n",
    "\n",
    "#Lifetime tier \n",
    "\n",
    "if   lifetime_miles >= 3000000:\n",
    "     lifetime_tier = \"Diamond\"\n",
    "elif lifetime_miles >= 2000000:\n",
    "     lifetime_tier = \"Ruby\"\n",
    "elif lifetime_miles >= 1000000:\n",
    "     lifetime_tier = \"Emerald\"\n",
    "else:lifetime_tier = \"None\"       "
   ]
  },
  {
   "cell_type": "code",
   "execution_count": 134,
   "id": "157a3424-b794-4032-a220-5a9f574d1c49",
   "metadata": {
    "tags": []
   },
   "outputs": [],
   "source": [
    "#Alternative \n",
    "highest_tier = \"None\"\n",
    "\n",
    "if \"Diamond\" in (annual_tier, lifetime_tier):\n",
    "    highest_tier = \"Diamond\" \n",
    "elif \"Ruby\" in (annual_tier, lifetime_tier):\n",
    "    highest_tier = \"Ruby\" \n",
    "elif \"Emerald\" in (annual_tier, lifetime_tier):\n",
    "    highest_tier = \"Emerald\" \n",
    "elif \"Sapphire\" in (annual_tier, lifetime_tier):\n",
    "    highest_tier = \"Sapphire\" \n",
    "    \n",
    "    "
   ]
  },
  {
   "cell_type": "code",
   "execution_count": 135,
   "id": "e6e7a55d-8e88-4067-a2f4-0db2efd2f4ea",
   "metadata": {
    "tags": []
   },
   "outputs": [],
   "source": [
    "#Selecting tier based rewards\n",
    "\n",
    "if  highest_tier == \"Diamond\":\n",
    "    number_of_free_bags = 3\n",
    "    class_of_free_seat_upgrades = \"First Class\"\n",
    "    free_lounge_access = True\n",
    "    percent_discount_on_ticket_prices = 30\n",
    "    \n",
    "elif highest_tier == \"Ruby\":\n",
    "    number_of_free_bags = 2\n",
    "    class_of_free_seat_upgrades = \"First Class\"\n",
    "    free_lounge_access = False\n",
    "    percent_discount_on_ticket_prices = 25\n",
    "    \n",
    "elif highest_tier == \"Emerald\":\n",
    "    number_of_free_bags = 1\n",
    "    class_of_free_seat_upgrades = \"Business Class\"\n",
    "    free_lounge_access = False\n",
    "    percent_discount_on_ticket_prices = 20\n",
    "    \n",
    "elif highest_tier == \"Sapphire\":\n",
    "    number_of_free_bags = 0\n",
    "    class_of_free_seat_upgrades = \"Business Class\"\n",
    "    free_lounge_access = False\n",
    "    percent_discount_on_ticket_prices = 15\n",
    "\n",
    "    "
   ]
  },
  {
   "cell_type": "code",
   "execution_count": 136,
   "id": "8fcc751d-b725-428b-80ad-3ed53b9fb391",
   "metadata": {
    "tags": []
   },
   "outputs": [
    {
     "name": "stdout",
     "output_type": "stream",
     "text": [
      "Saheel, this year, you have flown 87 flights for 50,000 miles and spent 24,000.0 USD with Python Airlines. Lifetime, you have flown 5,000,000 miles.\n"
     ]
    }
   ],
   "source": [
    "print(f\"{first_name}, this year, you have flown {annual_segments:,} flights for {annual_miles:,} miles and spent {annual_dollars:,} USD with Python Airlines. Lifetime, you have flown {lifetime_miles:,} miles.\")  "
   ]
  },
  {
   "cell_type": "code",
   "execution_count": 137,
   "id": "c5bff05c-cc88-4bd2-990b-d2e33756a3f7",
   "metadata": {
    "tags": []
   },
   "outputs": [
    {
     "name": "stdout",
     "output_type": "stream",
     "text": [
      "You have achieved lifetime frequent-flier status at the Diamond level!\n",
      "This year, you have also achieved annual frequent-flier status at the Emerald level!\n",
      "\n"
     ]
    }
   ],
   "source": [
    "if \"None\" in (annual_tier,lifetime_tier):\n",
    "    print(f\"You are on your way to achieving annual frequent-flier status with Python Airlines!\")\n",
    "\n",
    "if \"Diamond\" in (lifetime_tier):\n",
    "    print (f\"You have achieved lifetime frequent-flier status at the Diamond level!\")\n",
    "elif \"Ruby\" in (lifetime_tier):\n",
    "    print (f\"You have achieved lifetime frequent-flier status at the Ruby level!\")\n",
    "elif \"Emerald\" in (lifetime_tier):\n",
    "    print (f\"You have achieved lifetime frequent-flier status at the Emerald level!\")\n",
    "elif \"None\" == lifetime_tier and \"None\" != annual_tier:\n",
    "    print(f\"This year, you have achieved annual frequent-flier status at the {annual_tier} level!\")\n",
    "\n",
    "if \"Diamond\" in (lifetime_tier and annual_tier):\n",
    "     print (f\"This year, you have also achieved annual frequent-flier status at the Diamond level!\")\n",
    "elif \"Ruby\" in (lifetime_tier and annual_tier):\n",
    "    print (f\"This year, you have also achieved annual frequent-flier status at the Ruby level!\")\n",
    "elif \"Emerald\" in (lifetime_tier and annual_tier):\n",
    "    print (f\"This year, you have also achieved annual frequent-flier status at the Emerald level!\")\n",
    "elif \"Sapphire\" in (lifetime_tier and annual_tier):\n",
    "    print (f\"This year, you have also achieved annual frequent-flier status at the Sapphire level!\")\n",
    "\n",
    "print()"
   ]
  },
  {
   "cell_type": "code",
   "execution_count": 140,
   "id": "34a8dc1a-6675-41c4-b413-8203f2a1bcaa",
   "metadata": {
    "tags": []
   },
   "outputs": [
    {
     "name": "stdout",
     "output_type": "stream",
     "text": [
      "You have unlocked the following rewards:\n",
      "- 3 free checked bags per flight\n",
      "- Free seat upgrades to First Class\n",
      "- Enjoy free access to the club lounge in Chicago on your next/upcoming flight!\n",
      "- Your upcoming flight ticket price of $500.00 USD was reduced by 30% to $350.00 USD.\n",
      "\n"
     ]
    }
   ],
   "source": [
    "if highest_tier != \"None\":\n",
    "    print(\"You have unlocked the following rewards:\")\n",
    "    if number_of_free_bags > 0:\n",
    "        print(f\"- {number_of_free_bags} free checked bags per flight\")\n",
    "    if class_of_free_seat_upgrades != \"None\":\n",
    "        print(f\"- Free seat upgrades to {class_of_free_seat_upgrades}\")\n",
    "    if free_lounge_access:\n",
    "        if lounge_check: \n",
    "            print(\"- Enjoy free access to the club lounge in Chicago on your next/upcoming flight!\")\n",
    "        else:\n",
    "            print(\"- Free access to the club lounge next time flying to/through in Chicago\")\n",
    "    if percent_discount_on_ticket_prices > 0:\n",
    "        discounted_price = ticket_price - (ticket_price * (percent_discount_on_ticket_prices / 100))\n",
    "        print(f\"- Your upcoming flight ticket price of ${ticket_price:.2f} USD was reduced by {percent_discount_on_ticket_prices}% to ${discounted_price:.2f} USD.\")\n",
    "\n",
    "print()\n",
    "    "
   ]
  },
  {
   "cell_type": "code",
   "execution_count": null,
   "id": "bdd01031-0a43-4b0f-a2d1-d0bf1499a2b5",
   "metadata": {},
   "outputs": [],
   "source": []
  }
 ],
 "metadata": {
  "kernelspec": {
   "display_name": "Python 3 (ipykernel)",
   "language": "python",
   "name": "python3"
  },
  "language_info": {
   "codemirror_mode": {
    "name": "ipython",
    "version": 3
   },
   "file_extension": ".py",
   "mimetype": "text/x-python",
   "name": "python",
   "nbconvert_exporter": "python",
   "pygments_lexer": "ipython3",
   "version": "3.11.5"
  }
 },
 "nbformat": 4,
 "nbformat_minor": 5
}
